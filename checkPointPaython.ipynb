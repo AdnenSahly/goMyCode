{
 "cells": [
  {
   "cell_type": "code",
   "execution_count": 11,
   "metadata": {},
   "outputs": [
    {
     "name": "stdout",
     "output_type": "stream",
     "text": [
      "2002,2009,2016,2023,2037,2044,2051,2058,2072,2079,2086,2093,2107,2114,2121,2128,2142,2149,2156,2163,2177,2184,2191,2198,2212,2219,2226,2233,2247,2254,2261,2268,2282,2289,2296,2303,2317,2324,2331,2338,2352,2359,2366,2373,2387,2394,2401,2408,2422,2429,2436,2443,2457,2464,2471,2478,2492,2499,2506,2513,2527,2534,2541,2548,2562,2569,2576,2583,2597,2604,2611,2618,2632,2639,2646,2653,2667,2674,2681,2688,2702,2709,2716,2723,2737,2744,2751,2758,2772,2779,2786,2793,2807,2814,2821,2828,2842,2849,2856,2863,2877,2884,2891,2898,2912,2919,2926,2933,2947,2954,2961,2968,2982,2989,2996,3003,3017,3024,3031,3038,3052,3059,3066,3073,3087,3094,3101,3108,3122,3129,3136,3143,3157,3164,3171,3178,3192,3199\n"
     ]
    }
   ],
   "source": [
    "##question1\n",
    "liste = []\n",
    "x= range(2000,3200)\n",
    "y=''\n",
    "for n in x:\n",
    "        if n%7 ==0 and n%5!=0:\n",
    "            liste.append(n)\n",
    "            y=y+\",\"+str(n)\n",
    "            \n",
    "\n",
    "print(y[1:])"
   ]
  },
  {
   "cell_type": "code",
   "execution_count": 14,
   "metadata": {},
   "outputs": [
    {
     "name": "stdout",
     "output_type": "stream",
     "text": [
      "Enter a number: 8\n",
      "Factorail of  8  is :  40320\n"
     ]
    }
   ],
   "source": [
    "##question 2\n",
    "n = input(\"Enter a number: \")\n",
    "factorial = 1\n",
    "if int(n) >= 1:\n",
    "    \n",
    "    for i in range (1,int(n)+1):\n",
    "        \n",
    "        \n",
    "        factorial = factorial * i\n",
    "print(\"Factorail of \",n , \" is : \",factorial)\n"
   ]
  },
  {
   "cell_type": "code",
   "execution_count": 19,
   "metadata": {},
   "outputs": [
    {
     "name": "stdout",
     "output_type": "stream",
     "text": [
      "Enter a number: 8\n",
      "{1: 1, 2: 4, 3: 9, 4: 16, 5: 25, 6: 36, 7: 49}\n"
     ]
    }
   ],
   "source": [
    "##question 3\n",
    "n=input(\"Enter a number: \")\n",
    "x = range(1,int(n))\n",
    "dic = dict()\n",
    "for i in x:\n",
    "    dic[i]=i*i\n",
    "print(dic)    "
   ]
  },
  {
   "cell_type": "code",
   "execution_count": 74,
   "metadata": {},
   "outputs": [],
   "source": [
    "## question 4\n",
    "def missing_char(x,y):\n",
    "    if x==\"\"or y>len(x)-1 :\n",
    "        \n",
    "        return False\n",
    "    ch=x[y]\n",
    "    string1=\"\"\n",
    "    lim= len(x)\n",
    "    ran= range(lim)\n",
    "    for i in ran:\n",
    "        if x[i]==ch:\n",
    "            continue\n",
    "        else:\n",
    "                string1=string1+x[i]\n",
    "    return string1"
   ]
  },
  {
   "cell_type": "code",
   "execution_count": 75,
   "metadata": {},
   "outputs": [
    {
     "data": {
      "text/plain": [
       "'kittn'"
      ]
     },
     "execution_count": 75,
     "metadata": {},
     "output_type": "execute_result"
    }
   ],
   "source": [
    "missing_char('kitten',4)"
   ]
  },
  {
   "cell_type": "code",
   "execution_count": 76,
   "metadata": {},
   "outputs": [
    {
     "data": {
      "text/plain": [
       "'itten'"
      ]
     },
     "execution_count": 76,
     "metadata": {},
     "output_type": "execute_result"
    }
   ],
   "source": [
    "missing_char('kitten',0)"
   ]
  },
  {
   "cell_type": "code",
   "execution_count": 77,
   "metadata": {},
   "outputs": [
    {
     "data": {
      "text/plain": [
       "'ktten'"
      ]
     },
     "execution_count": 77,
     "metadata": {},
     "output_type": "execute_result"
    }
   ],
   "source": [
    "missing_char('kitten',1)"
   ]
  },
  {
   "cell_type": "code",
   "execution_count": 85,
   "metadata": {},
   "outputs": [
    {
     "data": {
      "text/plain": [
       "(array([[0, 1],\n",
       "        [2, 3],\n",
       "        [4, 5]]), [array([0, 1]), array([2, 3]), array([4, 5])])"
      ]
     },
     "execution_count": 85,
     "metadata": {},
     "output_type": "execute_result"
    }
   ],
   "source": [
    "## question 5\n",
    "import numpy as np\n",
    "numpy_array = np.array([[0,1],[2,3],[4,5]])\n",
    "liste=list(numpay_array)\n",
    "numpy_array,liste"
   ]
  },
  {
   "cell_type": "code",
   "execution_count": 97,
   "metadata": {},
   "outputs": [
    {
     "data": {
      "text/plain": [
       "[array([0, 1]), array([2, 3]), array([4, 5])]"
      ]
     },
     "execution_count": 97,
     "metadata": {},
     "output_type": "execute_result"
    }
   ],
   "source": [
    "f= range(numpy_array.ndim+1)\n",
    "liste2= list()\n",
    "for i in f: \n",
    "    liste2.append(numpy_array[i])\n",
    "    \n",
    "liste2\n"
   ]
  },
  {
   "cell_type": "code",
   "execution_count": 99,
   "metadata": {},
   "outputs": [],
   "source": [
    "## question 6\n",
    "array1=np.array([0, 1, 2] )\n",
    "array2=np.array([2 ,1, 0])"
   ]
  },
  {
   "cell_type": "code",
   "execution_count": 102,
   "metadata": {},
   "outputs": [
    {
     "data": {
      "text/plain": [
       "array([[ 1., -1.],\n",
       "       [-1.,  1.]])"
      ]
     },
     "execution_count": 102,
     "metadata": {},
     "output_type": "execute_result"
    }
   ],
   "source": [
    "conver= np.cov(array1,array2)\n",
    "conver"
   ]
  },
  {
   "cell_type": "code",
   "execution_count": 117,
   "metadata": {},
   "outputs": [
    {
     "name": "stdout",
     "output_type": "stream",
     "text": [
      "please inter the value of D separated with comma\n",
      "100,150,180\n",
      "18,22,24\n"
     ]
    }
   ],
   "source": [
    "## question 7\n",
    "##(2 * C * D)/H\n",
    "import math\n",
    "C=50\n",
    "H=30\n",
    "x=input(\"please inter the value of D separated with comma\\n\")\n",
    "output=\"\"\n",
    "for i in x.split(\",\"):\n",
    "    Q=math.sqrt((2*C*int(i))/H)\n",
    "    output=output+\",\"+str(int(Q))\n",
    "print(output[1:])"
   ]
  },
  {
   "cell_type": "code",
   "execution_count": null,
   "metadata": {},
   "outputs": [],
   "source": []
  }
 ],
 "metadata": {
  "kernelspec": {
   "display_name": "Python 3",
   "language": "python",
   "name": "python3"
  },
  "language_info": {
   "codemirror_mode": {
    "name": "ipython",
    "version": 3
   },
   "file_extension": ".py",
   "mimetype": "text/x-python",
   "name": "python",
   "nbconvert_exporter": "python",
   "pygments_lexer": "ipython3",
   "version": "3.7.4"
  }
 },
 "nbformat": 4,
 "nbformat_minor": 2
}
